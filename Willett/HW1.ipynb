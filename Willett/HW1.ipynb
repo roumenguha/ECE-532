{
 "cells": [
  {
   "cell_type": "markdown",
   "metadata": {
    "deletable": true,
    "editable": true
   },
   "source": [
    "# CS/ECE/ME 532 - Fall 2017 - Rebecca Willett\n",
    "## Homework 1: Vectors and Matrices\n",
    "#### Due Wednesday, September 20th, 2017\n",
    "#### Roumen Guha"
   ]
  },
  {
   "cell_type": "markdown",
   "metadata": {
    "deletable": true,
    "editable": true
   },
   "source": [
    "## 1. **Matrix multiplication.** \n",
    "\n",
    "*Settlers of Catan* is the [favorite game of the Green Bay Packers](https://www.washingtonpost.com/news/early-lead/wp/2015/01/16/the-green-bay-packers-are-obsessed-with-settlers-of-catan/?utm_term=.0c5c6419f03d). In this game, participants build roads, settlements, and cities by using resources such as wood, bricks, wheat, sheep, and ore. The number of resources required for each building project are reflected in Figure 1.\n",
    "\n",
    "<img src=\"hw1_532_fall17_fig1.bmp\">\n",
    "<center> **Figure 1:** Building costs in Settlers of Catan"
   ]
  },
  {
   "cell_type": "markdown",
   "metadata": {
    "deletable": true,
    "editable": true
   },
   "source": [
    "**a) Write the information above in a matrix. What do the rows represent? What do the columns represent?**"
   ]
  },
  {
   "cell_type": "markdown",
   "metadata": {
    "deletable": true,
    "editable": true
   },
   "source": [
    "One possible representation would be:\n",
    "\n",
    "<center>\n",
    "$A = \\left[ \\begin{array}{ccccc}\n",
    "1 & 1 & 0 & 0 & 0\\\\\n",
    "1 & 1 & 1 & 1 & 0\\\\\n",
    "0 & 0 & 2 & 0 & 3\\\\ \n",
    "0 & 0 & 1 & 1 & 1\\\\ \n",
    "\\end{array} \\right]$\n",
    "</center>\n",
    "\n",
    "The rows represent the requirements for Road, Settlement, City and Development Card respectively. Each row vector contains the requirements for that construction. \n",
    "\n",
    "And the columns represent Wood, Bricks, Wheat, Sheep and Ore respectively. Each column vector represents the quantities of a resource used in different constructions."
   ]
  },
  {
   "cell_type": "markdown",
   "metadata": {
    "deletable": true,
    "editable": true
   },
   "source": [
    "**b) Departing from the game somewhat, suppose resources cost \\$1 for each unit of wood, \\$2 for brick, \\$3 for sheep, \\$5 for wheat, and \\$8 for ore. Write this information in a vector. Write out a matrix-vector multiplication that calculates the total cost of buying roads, settlements, and cities.**"
   ]
  },
  {
   "cell_type": "markdown",
   "metadata": {
    "deletable": true,
    "editable": true
   },
   "source": [
    "$$ c = \\begin{bmatrix}\n",
    "1 & 2 & 3 & 5 & 8 \\\\\n",
    "\\end{bmatrix}^T\n",
    "$$\n",
    "\n",
    "Therefore, $t = Ac$"
   ]
  },
  {
   "cell_type": "code",
   "execution_count": 5,
   "metadata": {
    "collapsed": false,
    "deletable": true,
    "editable": true
   },
   "outputs": [
    {
     "data": {
      "text/plain": [
       "4-element Array{Int64,1}:\n",
       "  3\n",
       " 11\n",
       " 30\n",
       " 16"
      ]
     },
     "execution_count": 5,
     "metadata": {},
     "output_type": "execute_result"
    }
   ],
   "source": [
    "A = [1 1 0 0 0\n",
    "     1 1 1 1 0\n",
    "     0 0 2 0 3\n",
    "     0 0 1 1 1]\n",
    "\n",
    "c = [1\n",
    "     2\n",
    "     3\n",
    "     5\n",
    "     8]\n",
    "\n",
    "t = A*c"
   ]
  },
  {
   "cell_type": "markdown",
   "metadata": {
    "deletable": true,
    "editable": true
   },
   "source": [
    "**c) Suppose you want to crush Corey Linsley by building a city, two settlements, and six road lengths connecting them. Again using matrix multiplication, and the total resources required to fill the order.**"
   ]
  },
  {
   "cell_type": "markdown",
   "metadata": {
    "deletable": true,
    "editable": true
   },
   "source": [
    "$$ g = \\begin{bmatrix}\n",
    "6 & 2 & 1 & 0 \\\\\n",
    "\\end{bmatrix}^T\n",
    "$$\n",
    "\n",
    "Therefore, $r = g^T A$"
   ]
  },
  {
   "cell_type": "code",
   "execution_count": 7,
   "metadata": {
    "collapsed": false,
    "deletable": true,
    "editable": true
   },
   "outputs": [
    {
     "data": {
      "text/plain": [
       "1×5 Array{Int64,2}:\n",
       " 8  8  4  2  3"
      ]
     },
     "execution_count": 7,
     "metadata": {},
     "output_type": "execute_result"
    }
   ],
   "source": [
    "g = [6\n",
    "     2\n",
    "     1\n",
    "     0]\n",
    "\n",
    "r = transpose(g)*A"
   ]
  },
  {
   "cell_type": "markdown",
   "metadata": {
    "deletable": true,
    "editable": true
   },
   "source": [
    "**d) Calculate the total cost for the order (using, you guessed it, matrix multiplication)**"
   ]
  },
  {
   "cell_type": "markdown",
   "metadata": {
    "deletable": true,
    "editable": true
   },
   "source": [
    "The total cost of the order is $g^T A c$"
   ]
  },
  {
   "cell_type": "code",
   "execution_count": 8,
   "metadata": {
    "collapsed": false,
    "deletable": true,
    "editable": true
   },
   "outputs": [
    {
     "data": {
      "text/plain": [
       "1-element Array{Int64,1}:\n",
       " 70"
      ]
     },
     "execution_count": 8,
     "metadata": {},
     "output_type": "execute_result"
    }
   ],
   "source": [
    "total = transpose(g) * A * c"
   ]
  },
  {
   "cell_type": "markdown",
   "metadata": {
    "deletable": true,
    "editable": true
   },
   "source": [
    "## 2.\n",
    "\n",
    "Let $X = [x_1 x_2 \\ldots x_n] \\in \\mathbb{R}^{p \\times n}$, where $x_i \\in \\mathbb{R}^p$ is the *i*th column of $X$. Consider the matrix\n",
    "\n",
    "$$ C = \\frac{X X^T}{n} $$"
   ]
  },
  {
   "cell_type": "markdown",
   "metadata": {
    "deletable": true,
    "editable": true
   },
   "source": [
    "**a) Express $C$ as a sum of rank-1 matrices (i.e., columns of $X$ times rows of $X^T$ ).**"
   ]
  },
  {
   "cell_type": "markdown",
   "metadata": {
    "deletable": true,
    "editable": true
   },
   "source": [
    "$$C = \\frac{\\sum_{i=1}^{n} x_i x_i^T}{n}$$"
   ]
  },
  {
   "cell_type": "markdown",
   "metadata": {
    "deletable": true,
    "editable": true
   },
   "source": [
    "**b) Assuming $x_1, x_2, \\ldots, x_n$ are linearly independent, what is the rank of $C$?**"
   ]
  },
  {
   "cell_type": "markdown",
   "metadata": {
    "deletable": true,
    "editable": true
   },
   "source": [
    "If all columns $x_1, x_2, \\ldots, x_n$ are linearly independent, meaning $n$ linearly independent column vectors in $X$, that means that the rank of $C$ is $\\le min(p,n)$."
   ]
  },
  {
   "cell_type": "markdown",
   "metadata": {
    "deletable": true,
    "editable": true
   },
   "source": [
    "## 3. \n",
    "\n",
    "Let \n",
    "\n",
    "<center>\n",
    "$X = \\left[ \\begin{array}{ccccc}\n",
    "1 & 0 & 1 & 0 & 1\\\\\n",
    "0 & 1 & 0 & 1 & 1\\\\\n",
    "0 & 0 & 0 & 0 & 0\\\\ \n",
    "0 & 0 & 1 & 1 & 1\\\\ \n",
    "\\end{array} \\right]$\n",
    "</center>"
   ]
  },
  {
   "cell_type": "markdown",
   "metadata": {
    "deletable": true,
    "editable": true
   },
   "source": [
    "**a) What is the rank of $X$?**"
   ]
  },
  {
   "cell_type": "code",
   "execution_count": 10,
   "metadata": {
    "collapsed": false,
    "deletable": true,
    "editable": true
   },
   "outputs": [
    {
     "data": {
      "text/plain": [
       "3"
      ]
     },
     "execution_count": 10,
     "metadata": {},
     "output_type": "execute_result"
    }
   ],
   "source": [
    "X = [1 0 1 0 1\n",
    "     0 1 0 1 1\n",
    "     0 0 0 0 0\n",
    "     0 0 1 1 1]\n",
    "\n",
    "rank(X)"
   ]
  },
  {
   "cell_type": "markdown",
   "metadata": {
    "deletable": true,
    "editable": true
   },
   "source": [
    "**b) What is the rank of $X X^T$?**"
   ]
  },
  {
   "cell_type": "code",
   "execution_count": 11,
   "metadata": {
    "collapsed": false,
    "deletable": true,
    "editable": true
   },
   "outputs": [
    {
     "data": {
      "text/plain": [
       "3"
      ]
     },
     "execution_count": 11,
     "metadata": {},
     "output_type": "execute_result"
    }
   ],
   "source": [
    "rank(X*transpose(X))"
   ]
  },
  {
   "cell_type": "markdown",
   "metadata": {
    "deletable": true,
    "editable": true
   },
   "source": [
    "**c) Find a set of linearly independent columns in $X$.**"
   ]
  },
  {
   "cell_type": "markdown",
   "metadata": {
    "deletable": true,
    "editable": true
   },
   "source": [
    "One maximal linearly independent set of vectors is $\\{x_1, x_2, x_3\\}$"
   ]
  },
  {
   "cell_type": "markdown",
   "metadata": {
    "deletable": true,
    "editable": true
   },
   "source": [
    "$$ x_1 = \\begin{bmatrix} \n",
    "1 \\\\\n",
    "0 \\\\\n",
    "0 \\\\\n",
    "0 \\\\\n",
    "\\end{bmatrix} $$\n",
    "\n",
    "$$ x_2 = \\begin{bmatrix} \n",
    "0 \\\\\n",
    "1 \\\\\n",
    "0 \\\\\n",
    "0 \\\\\n",
    "\\end{bmatrix} $$\n",
    "\n",
    "$$ x_3 = \\begin{bmatrix} \n",
    "1 \\\\\n",
    "0 \\\\\n",
    "0 \\\\\n",
    "1 \\\\\n",
    "\\end{bmatrix} $$"
   ]
  }
 ],
 "metadata": {
  "kernelspec": {
   "display_name": "Julia 0.5.1",
   "language": "julia",
   "name": "julia-0.5"
  },
  "language_info": {
   "file_extension": ".jl",
   "mimetype": "application/julia",
   "name": "julia",
   "version": "0.5.1"
  }
 },
 "nbformat": 4,
 "nbformat_minor": 2
}
