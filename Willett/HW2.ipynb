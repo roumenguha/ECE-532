{
 "cells": [
  {
   "cell_type": "markdown",
   "metadata": {},
   "source": [
    "# CS/ECE/ME 532 - Fall 2017 - Rebecca Willett\n",
    "## Homework 2: Norms and Least Squares\n",
    "#### Due Wednesday, September 27th, 2017\n",
    "#### Roumen Guha"
   ]
  },
  {
   "cell_type": "markdown",
   "metadata": {},
   "source": [
    "__1.__ Define the mapping $\\Phi : \\mathbb{R}^n \\rightarrow \\mathbb{R}$ as\n",
    "\n",
    "$$\\Phi(x) = \\max\\limits_{1 \\leq i \\leq n} i|x_i|$$\n",
    "\n",
    "Is $\\Phi(x)$ a norm?"
   ]
  },
  {
   "cell_type": "markdown",
   "metadata": {},
   "source": [
    "__Solution:__ For some function $p(x)$ to be a valid norm, it must satisfy the following conditions: \n",
    "\n",
    "(i) $p(av) = |a| p(v),  a \\in \\mathbb{R}$: is absolutely scalable\n",
    "\n",
    "(ii) $p(u + v) \\le p(u) + p(v)$: satisfies the triangle inequality\n",
    "\n",
    "(iii) $p(v) \\ge 0$: satisfies non-negativity\n",
    "\n",
    "(iv) if $p(v) = 0$, then $ v = 0 $ is the zero vector: is point-separating\n",
    "\n",
    "It is easy to see that $\\Phi(x)$ is absolutely scalable, and always is always positive except when $x_i = 0$, which satisfies conditions (i), (iii) and (iv). Therefore, the only condition left to prove is that $\\Phi(x)$ satisfies the triangle inequality:\n",
    "\n",
    "If we try $\\Phi(u + v)$, we know this will be less than or equal to $\\Phi(u) + \\Phi(v)$ because of the order of operations between the magnitude operation and addition operation, for example when elements of $u$ or $v$ are negative. Therefore, it is necessarily true that $\\Phi(u + v) \\le \\Phi(u) + \\Phi(v)$. (I did a few example calculations before being able to answer this with some certainty)"
   ]
  },
  {
   "cell_type": "markdown",
   "metadata": {},
   "source": [
    "__2. Equivalence of norms.__ For each case below find positive constants $a$ and $b$ (possibly different in each case) so that for every $x \\in \\mathbb{R}^n$\n",
    "\n",
    "(i) $ a \\lVert x \\rvert_{1} \\le \\lVert x \\rVert_{2} \\le b \\lVert x \\rvert_{1} $ (HINT: Use Cauchy-Schwarz inequality, which states that for any vectors $u$, $v$, we have: $u^Tv \\le \\lVert u \\rVert_{2} \\lVert v \\rVert_{2} $ and a vector of all ones.)"
   ]
  },
  {
   "cell_type": "markdown",
   "metadata": {},
   "source": [
    "__Solution:__ $a = 0, b = 1$ would be a pair of values that would suffice. "
   ]
  },
  {
   "cell_type": "markdown",
   "metadata": {},
   "source": [
    "(ii) $ a \\lVert x \\rvert_{1} \\le \\lVert x \\rVert_{\\infty} \\le b \\lVert x \\rvert_{1} $"
   ]
  },
  {
   "cell_type": "markdown",
   "metadata": {},
   "source": [
    "__Solution:__ $a = 0, b = 1$ would be the same pair of values that would suffice. "
   ]
  },
  {
   "cell_type": "markdown",
   "metadata": {},
   "source": [
    "__3.__ Let\n",
    "\n",
    "$$ A = \\begin{bmatrix} \n",
    "1 & 1 & 1 \\\\\n",
    "1 & 1 & 0\\\\\n",
    "1 & 0 & 0 \\\\\n",
    "\\end{bmatrix} $$\n",
    "\n",
    "__a)__ What is the rank of A?"
   ]
  },
  {
   "cell_type": "code",
   "execution_count": 25,
   "metadata": {
    "collapsed": false
   },
   "outputs": [
    {
     "data": {
      "text/plain": [
       "3"
      ]
     },
     "execution_count": 25,
     "metadata": {},
     "output_type": "execute_result"
    }
   ],
   "source": [
    "A = [1 1 1\n",
    "     1 1 0\n",
    "     1 0 0]\n",
    "\n",
    "rank(A)"
   ]
  },
  {
   "cell_type": "markdown",
   "metadata": {},
   "source": [
    "__b)__ Suppose that $y = Ax$. Derive an explicit formula for $x$ in terms of $y$."
   ]
  },
  {
   "cell_type": "markdown",
   "metadata": {},
   "source": [
    "__Solution:__ x = A\\y"
   ]
  },
  {
   "cell_type": "markdown",
   "metadata": {},
   "source": [
    "__4.__ Answer the following questions. Make sure to explain your reasoning.\n",
    "\n",
    "__a)__ Are the columns of the following matrix linearly independent?\n",
    "\n",
    "$$ A = \\begin{bmatrix} \n",
    "+0.92 & +0.92 \\\\\n",
    "-0.92 & +0.92 \\\\\n",
    "+0.92 & -0.92 \\\\\n",
    "-0.92 & -0.92 \\\\\n",
    "\\end{bmatrix} $$"
   ]
  },
  {
   "cell_type": "code",
   "execution_count": 29,
   "metadata": {
    "collapsed": false
   },
   "outputs": [
    {
     "data": {
      "text/plain": [
       "2"
      ]
     },
     "execution_count": 29,
     "metadata": {},
     "output_type": "execute_result"
    }
   ],
   "source": [
    "A = [0.92 0.92\n",
    "     -0.92 0.92\n",
    "     0.92 -0.92\n",
    "     -0.92 -0.92]\n",
    "\n",
    "rank(A)\n",
    "# Yes, the columns are linearly independent."
   ]
  },
  {
   "cell_type": "markdown",
   "metadata": {},
   "source": [
    "__b)__ Are the columns of the following matrix linearly independent?\n",
    "\n",
    "$$ A = \\begin{bmatrix} \n",
    "+1 & +1 & +1 \\\\\n",
    "-1 & +1 & -1\\\\\n",
    "+1 & -1 & -1 \\\\\n",
    "\\end{bmatrix} $$"
   ]
  },
  {
   "cell_type": "code",
   "execution_count": 30,
   "metadata": {
    "collapsed": false
   },
   "outputs": [
    {
     "data": {
      "text/plain": [
       "3"
      ]
     },
     "execution_count": 30,
     "metadata": {},
     "output_type": "execute_result"
    }
   ],
   "source": [
    "A = [ 1  1  1\n",
    "     -1  1 -1\n",
    "      1 -1 -1]\n",
    "\n",
    "rank(A)\n",
    "# Yes, the columns are linearly independent."
   ]
  },
  {
   "cell_type": "markdown",
   "metadata": {},
   "source": [
    "__c)__ Are the columns of the following matrix linearly independent?\n",
    "\n",
    "$$ A = \\begin{bmatrix} \n",
    "1 & 2 & 2 \\\\\n",
    "3 & 4 & 5 \\\\\n",
    "5 & 6 & 8 \\\\\n",
    "\\end{bmatrix} $$"
   ]
  },
  {
   "cell_type": "code",
   "execution_count": 31,
   "metadata": {
    "collapsed": false
   },
   "outputs": [
    {
     "data": {
      "text/plain": [
       "2"
      ]
     },
     "execution_count": 31,
     "metadata": {},
     "output_type": "execute_result"
    }
   ],
   "source": [
    "A = [1 2 2\n",
    "     3 4 5\n",
    "     5 6 8]\n",
    "\n",
    "rank(A)\n",
    "# No, I was able to obtain x_1 from the equation x_3 - 0.5*x_2"
   ]
  },
  {
   "cell_type": "markdown",
   "metadata": {},
   "source": [
    "__d)__ What is the rank of the following matrix?\n",
    "\n",
    "$$ A = \\begin{bmatrix} \n",
    "+5 & 2 \\\\\n",
    "-5 & +2 \\\\\n",
    "+5 & -2 \\\\\n",
    "\\end{bmatrix} $$"
   ]
  },
  {
   "cell_type": "code",
   "execution_count": 33,
   "metadata": {
    "collapsed": false
   },
   "outputs": [
    {
     "data": {
      "text/plain": [
       "2"
      ]
     },
     "execution_count": 33,
     "metadata": {},
     "output_type": "execute_result"
    }
   ],
   "source": [
    "A = [5 2\n",
    "     -5 2\n",
    "     5 -2]\n",
    "\n",
    "rank(A)"
   ]
  },
  {
   "cell_type": "markdown",
   "metadata": {},
   "source": [
    "__e)__ Suppose the matrix in part __(c)__ is used in the least squares optimization $\\min_{x} \\lVert b - Ax \\rVert_{2}$. Does a unique solution exist?"
   ]
  },
  {
   "cell_type": "markdown",
   "metadata": {},
   "source": [
    "__Solution:__ No unique solution exists, because you only need two of the three column vectors to form a basis, as the three column vectors are not linearly independent."
   ]
  },
  {
   "cell_type": "markdown",
   "metadata": {},
   "source": [
    "__5.__ Consider the following matrix and vector:\n",
    "\n",
    "$$ A = \\begin{bmatrix} \n",
    "1 & 0 \\\\\n",
    "1 & -1 \\\\\n",
    "0 & 1 \\\\\n",
    "\\end{bmatrix}, \\hspace{1cm} b = \\begin{bmatrix} \n",
    "-1 \\\\\n",
    "2 \\\\\n",
    "1 \\\\\n",
    "\\end{bmatrix} $$\n",
    "\n",
    "__a)__ Find the solution $\\hat{x}$ to $\\min_{x} \\lVert b - Ax \\rVert_{2}$."
   ]
  },
  {
   "cell_type": "code",
   "execution_count": 43,
   "metadata": {
    "collapsed": false
   },
   "outputs": [
    {
     "data": {
      "text/plain": [
       "2-element Array{Float64,1}:\n",
       "  0.333333\n",
       " -0.333333"
      ]
     },
     "execution_count": 43,
     "metadata": {},
     "output_type": "execute_result"
    }
   ],
   "source": [
    "A = [1  0\n",
    "     1 -1\n",
    "     0  1]\n",
    "\n",
    "b = [-1\n",
    "      2\n",
    "      1]\n",
    "\n",
    "x_opt = inv(transpose(A)*A)*transpose(A)*b"
   ]
  },
  {
   "cell_type": "markdown",
   "metadata": {},
   "source": [
    "__b)__ Make a sketch of the geometry of this particular problem in $\\mathbb{R}^3$, showing the columns of $A$, the plane they span, the target vector $b$, the residual vector and the solution $\\hat{b} = A\\hat{x}$."
   ]
  },
  {
   "cell_type": "code",
   "execution_count": 44,
   "metadata": {
    "collapsed": false
   },
   "outputs": [
    {
     "data": {
      "text/plain": [
       "3-element Array{Float64,1}:\n",
       "  0.333333\n",
       "  0.666667\n",
       " -0.333333"
      ]
     },
     "execution_count": 44,
     "metadata": {},
     "output_type": "execute_result"
    }
   ],
   "source": [
    "b_opt = A * x_opt"
   ]
  },
  {
   "cell_type": "markdown",
   "metadata": {},
   "source": [
    "<img src=\"hw2_532_fall17_fig5b.png\">\n",
    "\n",
    "Sorry if the image isn't clear enough; the vector $A_1$ lies in the xy-plane which from this perspective lies over the $\\hat{b}$ vector, obscuring it. \n",
    "\n",
    "Please have mercy; I spent the better part of 30 minutes drawing this as clearly as I could."
   ]
  },
  {
   "cell_type": "markdown",
   "metadata": {},
   "source": [
    "__6. Polynomial fitting.__ Suppose we observe pairs of points $(a_i, b_i)$, $i = 1, \\dots , m$. Imagine these points are measurements from a scientific experiment. The variables $a_i$ are the experimental conditions and the $b_i$ correspond to the measured response in each condition. Suppose we wish to fit a degree $d < m$ polynomial to these data. In other words, we want to find the coefficients of a degree $d$ polynomial $p$ so that $p(a_i) \\approx b_i$ for $i = 1, 2, \\dots , m$. We will set this up as a least-squares problem.\n",
    "\n",
    "__a)__ Suppose $p$ is a degree $d$ polynomial. Write the general expression for $p(a_i) = b_{i}$."
   ]
  },
  {
   "cell_type": "markdown",
   "metadata": {},
   "source": [
    "__Solution:__ A polynomial $p$ with degree $d$ is of the form: $ p(x) = c_{0} + c_{1}x + c_{2}x^{2} + \\dots + c_{d}x^{d}$, where $c_{i}$ are the coefficients of the degree terms.\n",
    "\n",
    "Therefore, the general expression of $p(a_{i}) = b_{i}$ is \n",
    "\n",
    "$$ p(a_{i}) = c_{0} + c_{1}a_{i} + c_{2}a_{i}^{2} + \\dots + c_{d}a_{i}^{d} = b_{i} $$"
   ]
  },
  {
   "cell_type": "markdown",
   "metadata": {},
   "source": [
    "__b)__ Express the $i = 1, \\dots , m$ equations as a system in matrix form $Ax = b$. Specifically, what is the form/structure of $A$ in terms of the given $a_i$."
   ]
  },
  {
   "cell_type": "markdown",
   "metadata": {},
   "source": [
    "$$ \\begin{bmatrix} \n",
    "1 & a_{1} & a_{1}^{2} & \\dots & a_{1}^{d} \\\\\n",
    "1 & a_{2} & a_{2}^{2} & \\dots & a_{2}^{d} \\\\\n",
    "\\vdots & \\vdots & \\vdots & \\ddots & \\vdots \\\\\n",
    "1 & a_{m} & a_{m}^{2} & \\dots & a_{m}^{d} \\\\\n",
    "\\end{bmatrix} \\begin{bmatrix} \n",
    "c_{0} \\\\\n",
    "c_{1} \\\\\n",
    "c_{2} \\\\\n",
    "\\vdots \\\\\n",
    "c_{d} \\\\\n",
    "\\end{bmatrix} = \\begin{bmatrix}\n",
    "b_{0} \\\\\n",
    "b_{1} \\\\\n",
    "\\vdots \\\\\n",
    "b_{m} \\\\\n",
    "\\end{bmatrix}\n",
    "$$"
   ]
  },
  {
   "cell_type": "markdown",
   "metadata": {},
   "source": [
    "__c)__ Write a Matlab or Python script to find the least-squares fit to the $m = 30$ data points in $\\verb!polydata.mat!$. Plot the points and the polynomial fits for $d = 1, 2, 3$."
   ]
  },
  {
   "cell_type": "markdown",
   "metadata": {},
   "source": [
    "__Solution:__ This was a hard problem!"
   ]
  },
  {
   "cell_type": "code",
   "execution_count": 114,
   "metadata": {
    "collapsed": false
   },
   "outputs": [
    {
     "data": {
      "image/png": "[encoded data removed]",
      "text/plain": [
       "PyPlot.Figure(PyObject <matplotlib.figure.Figure object at 0x000000002DA74B70>)"
      ]
     },
     "metadata": {},
     "output_type": "display_data"
    }
   ],
   "source": [
    "using MAT, PyPlot\n",
    "\n",
    "polydata = matread(\"polydata.mat\")\n",
    "b = polydata[\"b\"]\n",
    "a = polydata[\"a\"]\n",
    "\n",
    "D = 3 # Number of degrees desired\n",
    "N = 10000 # Number of points to interpolate\n",
    "M = min(length(a), length(b)) # Only consider the minimum number of datapoints of a and b \n",
    "z = linspace(minimum(a), maximum(a), N) # N equally spaced points to evaluate the interpolation at\n",
    "y = zeros(max_d, N) # Initializing the storage vector of interpolated values\n",
    "\n",
    "for d = 1:D\n",
    "    \n",
    "    A = zeros(m, d+1) # generate the Vandermonde matrix A\n",
    "    for m = 1:M\n",
    "        for k = 1:d+1\n",
    "            A[m,k] = a[m]^(k-1)\n",
    "        end\n",
    "    end\n",
    "    \n",
    "    x = A\\b # solve for the optimal x using least squares\n",
    "    \n",
    "    for n = 1:N # generate the max_d best-fit lines\n",
    "        for k = 1:d+1\n",
    "            y[d,n] = y[d,n] + x[k]*z[n]^(k-1)\n",
    "        end\n",
    "    end\n",
    "    \n",
    "end\n",
    "\n",
    "plot(a, b, \".\")\n",
    "for d = 1:D\n",
    "    plot(z, y[d,:])\n",
    "end\n",
    "grid()\n",
    "title(\"Best-fit polynomials (d = 1, 2, 3)\")\n",
    "xlabel(\"a\")\n",
    "ylabel(\"b\")\n",
    "legend([\"Original data\", \"d = 1\", \"d = 2\", \"d = 3\"]);"
   ]
  },
  {
   "cell_type": "markdown",
   "metadata": {},
   "source": [
    "__7.__ Recall the cereal calorie prediction problem discussed in class. The data matrix for this problem is\n",
    "\n",
    "$$ A = \\begin{bmatrix} \n",
    "25 & 0 & 1 \\\\\n",
    "20 & 1 & 2 \\\\\n",
    "40 & 1 & 6 \\\\\n",
    "\\end{bmatrix} $$\n",
    "\n",
    "Each row contains the grams/serving of carbohydrates, fat, and protein, and each row corresponds to a different cereal _(Frosted Flakes, Grape-Nuts, Teenage Mutant Ninja Turtles)_. The total calories for each cereal are\n",
    "\n",
    "$$ b = \\begin{bmatrix} \n",
    "110 \\\\\n",
    "110 \\\\\n",
    "210 \\\\\n",
    "\\end{bmatrix} $$\n",
    "\n",
    "__a)__ Write a small program (e.g., in Matlab or Python) that solves the system of equations $ Ax = b $. Recall the solution $x$ gives the calories/gram of carbohydrate, fat, or protein. What is the solution?"
   ]
  },
  {
   "cell_type": "code",
   "execution_count": 115,
   "metadata": {
    "collapsed": false
   },
   "outputs": [
    {
     "data": {
      "text/plain": [
       "3-element Array{Float64,1}:\n",
       "  4.25\n",
       " 17.5 \n",
       "  3.75"
      ]
     },
     "execution_count": 115,
     "metadata": {},
     "output_type": "execute_result"
    }
   ],
   "source": [
    "A = [25 0 1\n",
    "     20 1 2\n",
    "     40 1 6]\n",
    "\n",
    "b = [110\n",
    "     110\n",
    "     210]\n",
    "\n",
    "x = A\\b"
   ]
  },
  {
   "cell_type": "markdown",
   "metadata": {},
   "source": [
    "__b)__ The solution may not agree with the known calories/gram, which are 4 for carbs, 9 for fat and 4 for protein. We suspect this may be due to rounding the grams to integers, especially the fat grams. Assuming the true value for calories/gram is\n",
    "\n",
    "$$ x^{\\ast} = \\begin{bmatrix} \n",
    "4 \\\\\n",
    "9 \\\\\n",
    "4 \\\\\n",
    "\\end{bmatrix} $$\n",
    "\n",
    "and that the total calories, grams of carbs, and grams of protein are correctly reported above, determine the “correct” grams of fat in each cereal.\n",
    "\n"
   ]
  },
  {
   "cell_type": "markdown",
   "metadata": {},
   "source": [
    "__Solution:__ With this new information, the equation to solve becomes:\n",
    "\n",
    "$$ \\begin{bmatrix} \n",
    "25 & f_{1} & 1 \\\\\n",
    "20 & f_{2} & 2 \\\\\n",
    "40 & f_{3} & 6 \\\\\n",
    "\\end{bmatrix} \\begin{bmatrix} \n",
    "4 \\\\\n",
    "9 \\\\\n",
    "4 \\\\\n",
    "\\end{bmatrix} = \\begin{bmatrix}\n",
    "110 \\\\\n",
    "110 \\\\\n",
    "210 \\\\\n",
    "\\end{bmatrix}\n",
    "$$\n",
    "\n",
    "So we have 3 new equations: \n",
    "\n",
    "(1) $25(4) + f_{1}(9) + 1(4) = 110 \\implies f_{1} = \\frac{6}{9}$\n",
    "\n",
    "(2) $20(4) + f_{2}(9) + 2(4) = 110 \\implies f_{2} = \\frac{22}{9}$\n",
    "\n",
    "(3) $40(4) + f_{3}(9) + 6(4) = 210 \\implies f_{3} = \\frac{26}{9}$"
   ]
  },
  {
   "cell_type": "markdown",
   "metadata": {},
   "source": [
    "__c)__ Now suppose that we predict total calories using a more refined breakdown of carbohydrates, into total carbohydrates, complex carbohydrates and sugars (simple carbs). So now we will have 5 features to predict calories (the three carb features + fat and protein). So let’s suppose we measure the grams of these features in 5 different cereals to obtain this data matrix\n",
    "\n",
    "$$ A = \\begin{bmatrix} \n",
    "25 & 15 & 10 & 0 & 1 \\\\\n",
    "20 & 12 &  8 & 1 & 2 \\\\\n",
    "40 & 30 & 10 & 1 & 6 \\\\\n",
    "30 & 15 & 15 & 0 & 3 \\\\\n",
    "35 & 20 & 15 & 2 & 4 \\\\\n",
    "\\end{bmatrix} $$\n",
    "\n",
    "and the total calories in each cereal\n",
    "\n",
    "$$ b = \\begin{bmatrix} \n",
    "104 \\\\\n",
    "97  \\\\\n",
    "193 \\\\\n",
    "132 \\\\\n",
    "174 \\\\\n",
    "\\end{bmatrix} $$\n",
    "\n",
    "Can you solve $Ax = b$? Carefully examine the situation in this case. Is there a solution that agrees with the true calories/gram?"
   ]
  },
  {
   "cell_type": "code",
   "execution_count": 116,
   "metadata": {
    "collapsed": false
   },
   "outputs": [
    {
     "data": {
      "text/plain": [
       "4"
      ]
     },
     "execution_count": 116,
     "metadata": {},
     "output_type": "execute_result"
    }
   ],
   "source": [
    "A = [25 15 10 0 1\n",
    "     20 12  8 1 2\n",
    "     40 30 10 1 6\n",
    "     30 15 15 0 3\n",
    "     35 20 15 2 4]\n",
    "\n",
    "b = [104\n",
    "      97\n",
    "     193\n",
    "     132\n",
    "     174]\n",
    "\n",
    "rank(A)"
   ]
  },
  {
   "cell_type": "markdown",
   "metadata": {},
   "source": [
    "__Solution:__ Since the $rank(A) = 4$, we know that there won't be a unique solution to this problem. \n",
    "\n",
    "However, we can find a matrix that contains only linearly independent column vectors of $A$. By inspection, we can see that $A_{1}$ (the first column vector of $A$) is the sum of $A_{2}$ and $A_{3}$, and so we can discard $A_{1}$. (This makes sense, by the way, since $A_{1}$ represented total carbohydrates, the sum of $A_{2}$ and $A_{3}$)\n",
    "\n",
    "If we perform least-squares with this new matrix $B$:"
   ]
  },
  {
   "cell_type": "code",
   "execution_count": 117,
   "metadata": {
    "collapsed": false
   },
   "outputs": [
    {
     "data": {
      "text/plain": [
       "4-element Array{Float64,1}:\n",
       " 4.0\n",
       " 4.0\n",
       " 9.0\n",
       " 4.0"
      ]
     },
     "execution_count": 117,
     "metadata": {},
     "output_type": "execute_result"
    }
   ],
   "source": [
    "B = [15 10 0 1\n",
    "     12  8 1 2\n",
    "     30 10 1 6\n",
    "     15 15 0 3\n",
    "     20 15 2 4]\n",
    "\n",
    "y = B\\b"
   ]
  },
  {
   "cell_type": "markdown",
   "metadata": {},
   "source": [
    "We see that we can obtain an exact solution, one that agrees with our known exact solution. But it is just one possible solution to our original problem $Ax = b$."
   ]
  }
 ],
 "metadata": {
  "kernelspec": {
   "display_name": "Julia 0.5.1",
   "language": "julia",
   "name": "julia-0.5"
  },
  "language_info": {
   "file_extension": ".jl",
   "mimetype": "application/julia",
   "name": "julia",
   "version": "0.5.1"
  }
 },
 "nbformat": 4,
 "nbformat_minor": 2
}
